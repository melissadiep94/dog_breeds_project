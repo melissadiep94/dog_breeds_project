{
 "cells": [
  {
   "cell_type": "code",
   "execution_count": 1,
   "metadata": {},
   "outputs": [
    {
     "name": "stdout",
     "output_type": "stream",
     "text": [
      "<bound method NDFrame.head of      breed_ID                         breed_name avg_lifespan_years\n",
      "0           1                      Affenpinscher       12 to 14 yrs\n",
      "1           2                       Afghan Hound       12 to 14 yrs\n",
      "2           3                   Airedale Terrier       10 to 13 yrs\n",
      "3           4                             Akbash       10 to 11 yrs\n",
      "4           5                              Akita       10 to 13 yrs\n",
      "..        ...                                ...                ...\n",
      "270       271        Wirehaired Pointing Griffon       10 to 12 yrs\n",
      "271       272                 Wirehaired Terrier       13 to 14 yrs\n",
      "272       273  Xoloitzcuintli / Mexican Hairless             13 yrs\n",
      "273       274          Yellow Labrador Retriever       10 to 14 yrs\n",
      "274       275                  Yorkshire Terrier       14 to 16 yrs\n",
      "\n",
      "[275 rows x 3 columns]>\n"
     ]
    }
   ],
   "source": [
    "import pandas as pd\n",
    "breed_weight = pd.read_csv(\"New_Breed_LifeSpan_Filtered.csv\")\n",
    "print(breed_weight.head)"
   ]
  },
  {
   "cell_type": "code",
   "execution_count": 19,
   "metadata": {},
   "outputs": [
    {
     "data": {
      "text/plain": [
       "<bound method NDFrame.head of      breed_ID breed_type                         breed_name\n",
       "0           1        dog                      Affenpinscher\n",
       "1           2        dog                       Afghan Hound\n",
       "2           3        dog                   Airedale Terrier\n",
       "3           4        dog                             Akbash\n",
       "4           5        dog                              Akita\n",
       "..        ...        ...                                ...\n",
       "270       271        dog        Wirehaired Pointing Griffon\n",
       "271       272        dog                 Wirehaired Terrier\n",
       "272       273        dog  Xoloitzcuintli / Mexican Hairless\n",
       "273       274        dog          Yellow Labrador Retriever\n",
       "274       275        dog                  Yorkshire Terrier\n",
       "\n",
       "[275 rows x 3 columns]>"
      ]
     },
     "execution_count": 19,
     "metadata": {},
     "output_type": "execute_result"
    }
   ],
   "source": [
    "id=breed_weight[\"breed_ID\"].tolist()\n",
    "name=breed_weight[\"breed_name\"].tolist()\n",
    "res = []\n",
    "type_=[]\n",
    "sel=[]\n",
    "for i in range(len(id)):\n",
    "    if id[i] not in res:\n",
    "        res.append(id[i])\n",
    "        type_.append(\"dog\")\n",
    "        sel.append(name[i])\n",
    "data_dict = {'breed_ID':res,\"breed_type\":type_,\n",
    "             'breed_name': sel}\n",
    "df = pd.DataFrame(data_dict)\n",
    "df.head\n"
   ]
  },
  {
   "cell_type": "code",
   "execution_count": 21,
   "metadata": {},
   "outputs": [],
   "source": [
    "breed_weight = pd.read_csv(\"df_breed_weight_clean.csv\")\n",
    "id=breed_weight[\"breed_ID\"].tolist()\n",
    "name=breed_weight[\"breed_name\"].tolist()\n",
    "for i in range(len(id)):\n",
    "    if id[i] not in res:\n",
    "        res.append(id[i])\n",
    "        type_.append(\"dog\")\n",
    "        sel.append(name[i])\n",
    "data_dict = {'breed_ID':res,\"breed_type\":type_,\n",
    "             'breed_name': sel}\n",
    "df = pd.DataFrame(data_dict)\n",
    "df.head\n",
    "df.to_csv('breeds.csv',index=False)\n"
   ]
  },
  {
   "cell_type": "code",
   "execution_count": 23,
   "metadata": {},
   "outputs": [
    {
     "name": "stdout",
     "output_type": "stream",
     "text": [
      "Index(['dog_ID', 'dog_name', 'url_petfinder', 'dog_age', 'dog_gender',\n",
      "       'dog_size', 'dog_coat', 'dog_description', 'published_at',\n",
      "       'distance_miles_from_07090', 'breed_ID', 'breed', 'colors.primary',\n",
      "       'attributes.spayed_neutered', 'attributes.house_trained',\n",
      "       'attributes.special_needs', 'attributes.shots_current',\n",
      "       'environment.children', 'environment.dogs', 'environment.cats',\n",
      "       'contact.email', 'contact.phone', 'contact.address.address1',\n",
      "       'contact.address.city', 'contact.address.state',\n",
      "       'contact.address.postcode'],\n",
      "      dtype='object')\n"
     ]
    }
   ],
   "source": [
    "pet_finder = pd.read_csv(\"df_petfinder_dogslist_api_clean.csv\")\n",
    "print(pet_finder.columns)"
   ]
  },
  {
   "cell_type": "code",
   "execution_count": 26,
   "metadata": {},
   "outputs": [
    {
     "name": "stdout",
     "output_type": "stream",
     "text": [
      "<bound method NDFrame.head of        dog_ID                  dog_name  breed_ID                       breed  \\\n",
      "0    50796417                     Hogan       170                 Mixed Breed   \n",
      "1    49463289                      Kane       170                 Mixed Breed   \n",
      "2    50796241                  Wrinkles       170                 Mixed Breed   \n",
      "3    52045887                     Carly       246  Staffordshire Bull Terrier   \n",
      "4    51738308                     Cindy        90             English Bulldog   \n",
      "..        ...                       ...       ...                         ...   \n",
      "595  52665042                 XP Hailey        79                   Coonhound   \n",
      "596  51076716   Buddy BROWN TERRIER Gio       252                     Terrier   \n",
      "597  52096345        Maverick Louisiana       152          Labrador Retriever   \n",
      "598  52543467            Rambo Barnwell       152          Labrador Retriever   \n",
      "599  52008634  XP Admiral - Boonton, NJ       112         German Shepherd Dog   \n",
      "\n",
      "    dog_age        colors.primary dog_coat environment.children  \\\n",
      "0    Senior  Gray / Blue / Silver    Short                  NaN   \n",
      "1     Adult  Gray / Blue / Silver    Short                  NaN   \n",
      "2     Adult  Gray / Blue / Silver    Short                 True   \n",
      "3      Baby                 Black    Short                 True   \n",
      "4    Senior                Golden    Short                 True   \n",
      "..      ...                   ...      ...                  ...   \n",
      "595    Baby                   NaN      NaN                  NaN   \n",
      "596   Adult                   NaN      NaN                 True   \n",
      "597    Baby                   NaN      NaN                 True   \n",
      "598   Young                   NaN      NaN                  NaN   \n",
      "599  Senior                   NaN      NaN                  NaN   \n",
      "\n",
      "    environment.dogs  attributes.house_trained  attributes.special_needs  \\\n",
      "0               True                      True                     False   \n",
      "1                NaN                      True                     False   \n",
      "2               True                      True                     False   \n",
      "3               True                     False                     False   \n",
      "4              False                      True                      True   \n",
      "..               ...                       ...                       ...   \n",
      "595              NaN                     False                     False   \n",
      "596             True                      True                     False   \n",
      "597             True                     False                     False   \n",
      "598             True                      True                     False   \n",
      "599              NaN                      True                     False   \n",
      "\n",
      "     distance_miles_from_07090 contact.address.city  \n",
      "0                       1.0243              Garwood  \n",
      "1                       1.0243              Garwood  \n",
      "2                       1.0243              Garwood  \n",
      "3                       2.1022             Cranford  \n",
      "4                       2.1022             Cranford  \n",
      "..                         ...                  ...  \n",
      "595                    19.6733             Rockaway  \n",
      "596                    19.6733             Rockaway  \n",
      "597                    19.6733             Rockaway  \n",
      "598                    19.6733             Rockaway  \n",
      "599                    19.6733             Rockaway  \n",
      "\n",
      "[600 rows x 13 columns]>\n"
     ]
    }
   ],
   "source": [
    "\n",
    "pet_finder_sel=pet_finder[[\"dog_ID\",\"dog_name\",\"breed_ID\",\"breed\",\"dog_age\",'colors.primary',\"dog_coat\",'environment.children', 'environment.dogs','attributes.house_trained', 'attributes.special_needs','distance_miles_from_07090','contact.address.city']]\n",
    "\n",
    "print(pet_finder_sel.head)"
   ]
  }
 ],
 "metadata": {
  "interpreter": {
   "hash": "b3ba2566441a7c06988d0923437866b63cedc61552a5af99d1f4fb67d367b25f"
  },
  "kernelspec": {
   "display_name": "Python 3",
   "language": "python",
   "name": "python3"
  },
  "language_info": {
   "codemirror_mode": {
    "name": "ipython",
    "version": 3
   },
   "file_extension": ".py",
   "mimetype": "text/x-python",
   "name": "python",
   "nbconvert_exporter": "python",
   "pygments_lexer": "ipython3",
   "version": "3.6.10"
  }
 },
 "nbformat": 4,
 "nbformat_minor": 2
}
